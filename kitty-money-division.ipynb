{
 "cells": [
  {
   "cell_type": "markdown",
   "metadata": {},
   "source": [
    "<h1 style=\"text-align:center\">COMP20270 OOP in Python, Assignment 1: Kitty<br>Brian Manning</h1>\n",
    "\n",
    "___\n",
    "## Event Class\n",
    "- This class is used to store information around all the transactions that are made along with all the members that are going to an event. \n",
    "___\n",
    "- It has methods to do the following:\n",
    "    1. __add_transaction__: Add a transaction to the kitty for that event\n",
    "    2. __get_balances__: Calculate the balance owed by each perform\n",
    "    3. __who_pays__: Calculate who pays who (using minimum transactions)\n",
    "\n",
    "\n",
    "- It has the following properties:\n",
    "    1. __name__: Stores the name of the event\n",
    "    2. __member_list__: Stores the member variables who are attending the event\n",
    "    3. __transactions_list__: Stores information relating to transactions made at the event\n",
    "    4. __running_total__: Store a running total of all transactions\n",
    "    5. __totals__: Used when calculating the balances & final reconciliations. Stores a dict of members along with their balances which is then sorted\n",
    "___"
   ]
  },
  {
   "cell_type": "code",
   "execution_count": null,
   "metadata": {},
   "outputs": [],
   "source": [
    "class Event():\n",
    "    def __init__(self, name, member_list):\n",
    "        #Initialise Kitty with empty transactions and total = 0\n",
    "        self.name = name\n",
    "        self.member_list = member_list\n",
    "        self.transactions_list = {}\n",
    "        self.running_total = 0\n",
    "        self.totals = {}\n",
    "        print(f\"Thank you for creating the Kitty for {self.name}.\")\n",
    "        for member in member_list:\n",
    "            self.transactions_list[member] = []\n",
    "    \n",
    "    def add_transaction(self, event_name, amount, payee):\n",
    "        #Function to add a transaction the Kitty\n",
    "        try:\n",
    "        #check if the member exists\n",
    "            if payee not in self.member_list:\n",
    "                print(f\"{payee.name} is not a member in this event.\")\n",
    "                return False \n",
    "            new_transaction = Transaction(event_name, amount, payee)\n",
    "            if type(new_transaction.amount) != int:\n",
    "                print(f\"{new_transaction.amount} is not a whole number\")\n",
    "            elif new_transaction.amount <= 0:\n",
    "                print(f\"{new_transaction.amount} is less than or equal to 0\")\n",
    "            else:\n",
    "                self.transactions_list[new_transaction.payee] += [[amount, event_name],]\n",
    "                payee.total += amount\n",
    "                self.running_total += amount\n",
    "                return True\n",
    "        except:\n",
    "            print('Transaction could not be added')\n",
    "            return False\n",
    "        \n",
    "    def get_balances(self):\n",
    "        #method to calculate who pays who\n",
    "        #put totals into sortable dict, print the total & average\n",
    "        self.totals = {}\n",
    "        average = round(self.running_total/len(self.member_list), 2)\n",
    "        print(f'Total: €{self.running_total}, that is €{average:.2f} each.\\n')\n",
    "        for member in self.member_list:\n",
    "            member.balance = member.total - average\n",
    "            self.totals[member] = member.balance\n",
    "            print(member.name, 'has balance', f'€{member.balance:.2f}')\n",
    "        \n",
    "        # sort the list of totals from lowest to highest\n",
    "        self.totals = {k: v for k, v in sorted(self.totals.items(), key=lambda item: item[1])}\n",
    "    \n",
    "    def who_pays(self):\n",
    "        self.get_balances()\n",
    "        print()\n",
    "        #code to print who pays who\n",
    "        for payee in self.totals:\n",
    "            for receiver in reversed(self.totals):\n",
    "                if -0.02 < self.totals[payee] < 0.02:\n",
    "                    break\n",
    "                max_key = max(self.totals, key=self.totals.get)\n",
    "                if -self.totals[payee] > self.totals[receiver] and self.totals[receiver] > 0 and payee != receiver:\n",
    "                    if -0.02 < abs(self.totals[receiver]) - abs(self.totals[payee]) < 0.02:\n",
    "                        print(payee.name, 'pays', receiver.name, f'€{-self.totals[payee]:.2f}')\n",
    "                        self.totals[payee] -= self.totals[payee]\n",
    "                        self.totals[receiver] = 0\n",
    "                    else:\n",
    "                        print(payee.name, 'pays', receiver.name, f'€{self.totals[receiver]:.2f}')\n",
    "                        self.totals[payee] += self.totals[receiver]\n",
    "                        self.totals[receiver] = 0\n",
    "                elif payee == receiver and max_key != payee:\n",
    "                    print(payee.name, 'pays', max_key.name, f'€{-self.totals[payee]:.2f}')\n",
    "                    self.totals[max_key] += self.totals[payee]\n",
    "                    self.totals[payee] = 0"
   ]
  },
  {
   "cell_type": "markdown",
   "metadata": {},
   "source": [
    "___\n",
    "## Transaction Class\n",
    "- This class is used to initialise a transaction, with the transaction name along with the amount spent and who spent it\n",
    "___\n",
    "- It has the following properties:\n",
    "    1. __name__: Stores the name of the transaction\n",
    "    2. __amount__: Stores the amount paid\n",
    "    3. __payee__: Stores who paid it\n",
    "___"
   ]
  },
  {
   "cell_type": "code",
   "execution_count": null,
   "metadata": {},
   "outputs": [],
   "source": [
    "class Transaction():\n",
    "    #transactions\n",
    "    def __init__(self, name, amount, payee):\n",
    "        self.name = name\n",
    "        self.amount = amount\n",
    "        self.payee = payee"
   ]
  },
  {
   "cell_type": "markdown",
   "metadata": {},
   "source": [
    "___\n",
    "## Member Class\n",
    "- This class is used to initialise a member\n",
    "___\n",
    "- It has the following properties:\n",
    "    1. __name__: Stores the name of the transaction\n",
    "    2. __total__: Stores the total amount paid by the member\n",
    "    3. __balance__: Stores the members balance (total paid - average paid by everyone)\n",
    "___"
   ]
  },
  {
   "cell_type": "code",
   "execution_count": null,
   "metadata": {},
   "outputs": [],
   "source": [
    "class Member():\n",
    "    #Class to store information about each member\n",
    "    def __init__(self, name):\n",
    "        self.name = name\n",
    "        self.total = 0\n",
    "        self.balance = 0"
   ]
  },
  {
   "cell_type": "markdown",
   "metadata": {},
   "source": [
    "___\n",
    "<div class=\"alert alert-block alert-success\"><h2 style=\"text-align:center\">Sample 1</h2></div>"
   ]
  },
  {
   "cell_type": "code",
   "execution_count": null,
   "metadata": {},
   "outputs": [],
   "source": [
    "a = Member('Annie')\n",
    "s = Member('Sally')\n",
    "b = Member('Bill')"
   ]
  },
  {
   "cell_type": "code",
   "execution_count": null,
   "metadata": {},
   "outputs": [],
   "source": [
    "k = Event('Concert', [a, b, s])"
   ]
  },
  {
   "cell_type": "code",
   "execution_count": null,
   "metadata": {},
   "outputs": [],
   "source": [
    "k.add_transaction('food', 180, a)\n",
    "k.add_transaction('drink', 75, s)\n",
    "k.add_transaction('sleep', 16, b)\n",
    "k.add_transaction('pub', 19, b)"
   ]
  },
  {
   "cell_type": "code",
   "execution_count": null,
   "metadata": {},
   "outputs": [],
   "source": [
    "k.get_balances()"
   ]
  },
  {
   "cell_type": "code",
   "execution_count": null,
   "metadata": {},
   "outputs": [],
   "source": [
    "k.who_pays()"
   ]
  },
  {
   "cell_type": "markdown",
   "metadata": {},
   "source": [
    "___\n",
    "<div class=\"alert alert-block alert-success\"><h2 style=\"text-align:center\">Sample 2</h2></div>"
   ]
  },
  {
   "cell_type": "code",
   "execution_count": null,
   "metadata": {},
   "outputs": [],
   "source": [
    "c = Member('Cathy')\n",
    "r = Member('Robin')\n",
    "j = Member('Jen')"
   ]
  },
  {
   "cell_type": "code",
   "execution_count": null,
   "metadata": {},
   "outputs": [],
   "source": [
    "l = Event('Concert', [c, r, j])"
   ]
  },
  {
   "cell_type": "code",
   "execution_count": null,
   "metadata": {},
   "outputs": [],
   "source": [
    "l.add_transaction('food', 33, c)\n",
    "l.add_transaction('drink', 60, r)\n",
    "l.add_transaction('sleep', 21, j)\n",
    "l.add_transaction('pub', 27, j)"
   ]
  },
  {
   "cell_type": "code",
   "execution_count": null,
   "metadata": {
    "scrolled": true
   },
   "outputs": [],
   "source": [
    "l.who_pays()"
   ]
  },
  {
   "cell_type": "markdown",
   "metadata": {},
   "source": [
    "___\n",
    "<div class=\"alert alert-block alert-success\"><h2 style=\"text-align:center\">Sample 3</h2></div>"
   ]
  },
  {
   "cell_type": "code",
   "execution_count": null,
   "metadata": {},
   "outputs": [],
   "source": [
    "n = Member('Nora')\n",
    "e = Member('Eva')\n",
    "f = Member('Frankie')\n",
    "h = Member('Harry')"
   ]
  },
  {
   "cell_type": "code",
   "execution_count": null,
   "metadata": {},
   "outputs": [],
   "source": [
    "m = Event('Concert', [n, e, f, h])"
   ]
  },
  {
   "cell_type": "code",
   "execution_count": null,
   "metadata": {},
   "outputs": [],
   "source": [
    "m.add_transaction('food', 110, n)\n",
    "m.add_transaction('food', 60, e)\n",
    "m.add_transaction('food', 125, f)\n",
    "m.add_transaction('food', 70, h)"
   ]
  },
  {
   "cell_type": "code",
   "execution_count": null,
   "metadata": {},
   "outputs": [],
   "source": [
    "m.who_pays()"
   ]
  },
  {
   "cell_type": "markdown",
   "metadata": {},
   "source": [
    "___"
   ]
  },
  {
   "cell_type": "code",
   "execution_count": null,
   "metadata": {},
   "outputs": [],
   "source": []
  }
 ],
 "metadata": {
  "kernelspec": {
   "display_name": "Python 3",
   "language": "python",
   "name": "python3"
  },
  "language_info": {
   "codemirror_mode": {
    "name": "ipython",
    "version": 3
   },
   "file_extension": ".py",
   "mimetype": "text/x-python",
   "name": "python",
   "nbconvert_exporter": "python",
   "pygments_lexer": "ipython3",
   "version": "3.8.3"
  }
 },
 "nbformat": 4,
 "nbformat_minor": 4
}
